{
 "cells": [
  {
   "cell_type": "markdown",
   "metadata": {
    "application/vnd.databricks.v1+cell": {
     "cellMetadata": {},
     "inputWidgets": {},
     "nuid": "b5f19b80-ea2d-4f85-a79a-d7d2ee4be515",
     "showTitle": false,
     "title": ""
    }
   },
   "source": [
    "## DATALAKE CREATION\n",
    "\n",
    "- **Name:** Vikranth Ale\n",
    "- **Email:** alevikranth407@gmail.com\n",
    "- **Date:** July 24, 2023"
   ]
  },
  {
   "cell_type": "code",
   "execution_count": 0,
   "metadata": {
    "application/vnd.databricks.v1+cell": {
     "cellMetadata": {
      "byteLimit": 2048000,
      "rowLimit": 10000
     },
     "inputWidgets": {},
     "nuid": "9ff6490f-c649-4d6b-9d9b-1d16f11e4eac",
     "showTitle": false,
     "title": ""
    }
   },
   "outputs": [],
   "source": [
    "# Importing required libraries for Layer 1\n",
    "from pyspark.sql import SparkSession\n",
    "from datetime import datetime, date\n",
    "import pandas as pd\n",
    "import json\n",
    "from pyspark.sql import Row, Column\n",
    "import pyspark.sql.functions as F\n",
    "\n",
    "\n",
    "# Spark Configurations\n",
    "spark.conf.set('spark.sql.repl.eagerEval.enabled', True)\n",
    "\n",
    "spark = SparkSession.builder.appName(\"TopItemsNCustomers\").getOrCreate()"
   ]
  },
  {
   "cell_type": "code",
   "execution_count": 0,
   "metadata": {
    "application/vnd.databricks.v1+cell": {
     "cellMetadata": {
      "byteLimit": 2048000,
      "rowLimit": 10000
     },
     "inputWidgets": {},
     "nuid": "f58f880f-85f1-4f10-8230-9d8e0e3f1edc",
     "showTitle": false,
     "title": ""
    }
   },
   "outputs": [
    {
     "name": "stdout",
     "output_type": "stream",
     "text": [
      "Out[156]: [FileInfo(path='dbfs:/FileStore/tables/event.csv', name='event.csv', size=155970517, modificationTime=1689721794000),\n",
      " FileInfo(path='dbfs:/FileStore/tables/item.csv', name='item.csv', size=184207, modificationTime=1689721138000),\n",
      " FileInfo(path='dbfs:/FileStore/tables/order.csv', name='order.csv', size=4413105, modificationTime=1689721111000),\n",
      " FileInfo(path='dbfs:/FileStore/tables/user.csv', name='user.csv', size=8305657, modificationTime=1689721911000)]"
     ]
    }
   ],
   "source": [
    "# Checking available datasets (csv files)\n",
    "dbutils.fs.ls(\"dbfs:/FileStore/tables\")"
   ]
  },
  {
   "cell_type": "markdown",
   "metadata": {
    "application/vnd.databricks.v1+cell": {
     "cellMetadata": {},
     "inputWidgets": {},
     "nuid": "4ccbcc77-cd19-4fef-bbc7-d92f22537000",
     "showTitle": false,
     "title": ""
    }
   },
   "source": [
    "### LAYER 1\n",
    "- 1. Load RAW datasets\n",
    "- 2. Verify the datatypes"
   ]
  },
  {
   "cell_type": "markdown",
   "metadata": {
    "application/vnd.databricks.v1+cell": {
     "cellMetadata": {},
     "inputWidgets": {},
     "nuid": "fbbc1f80-c075-4810-b55a-0f98452e18d5",
     "showTitle": false,
     "title": ""
    }
   },
   "source": [
    "##### LOADING RAW FILES AND CREATING SPARK DATAFRAMES"
   ]
  },
  {
   "cell_type": "code",
   "execution_count": 0,
   "metadata": {
    "application/vnd.databricks.v1+cell": {
     "cellMetadata": {
      "byteLimit": 2048000,
      "rowLimit": 10000
     },
     "inputWidgets": {},
     "nuid": "08ed5a14-c06a-4623-be9e-59e99ab05391",
     "showTitle": false,
     "title": ""
    }
   },
   "outputs": [
    {
     "name": "stdout",
     "output_type": "stream",
     "text": [
      "['dbfs:/FileStore/tables/user.csv', 'dbfs:/FileStore/tables/order.csv', 'dbfs:/FileStore/tables/item.csv', 'dbfs:/FileStore/tables/event.csv']\n",
      "\n"
     ]
    }
   ],
   "source": [
    "# Load csv files\n",
    "\n",
    "file_location = [dataset.path for dataset in dbutils.fs.ls(\"dbfs:/FileStore/tables\")[::-1]]\n",
    "\n",
    "print(file_location)\n",
    "print('')\n",
    "\n",
    "file_type = \"csv\"\n",
    "first_row_is_header = \"True\"\n",
    "infer_schema = \"False\"\n",
    "delimiter = \",\"\n",
    "\n",
    "users_df = spark.read.format(file_type) \\\n",
    "          .option(\"inferSchema\", infer_schema) \\\n",
    "          .option(\"header\", first_row_is_header) \\\n",
    "          .option(\"sep\", delimiter) \\\n",
    "          .load(file_location[0])\n",
    "            \n",
    "orders_df = spark.read.format(file_type) \\\n",
    "          .option(\"inferSchema\", infer_schema) \\\n",
    "          .option(\"header\", first_row_is_header) \\\n",
    "          .option(\"sep\", delimiter) \\\n",
    "          .load(file_location[1])\n",
    "\n",
    "items_df = spark.read.format(file_type) \\\n",
    "          .option(\"inferSchema\", infer_schema) \\\n",
    "          .option(\"header\", first_row_is_header) \\\n",
    "          .option(\"sep\", delimiter) \\\n",
    "          .load(file_location[2])\n",
    "\n",
    "events_df = spark.read.format(file_type) \\\n",
    "          .option(\"inferSchema\", infer_schema) \\\n",
    "          .option(\"header\", first_row_is_header) \\\n",
    "          .option(\"sep\", delimiter) \\\n",
    "          .option(\"escape\", \"\\\"\")   \\\n",
    "          .load(file_location[3])\n"
   ]
  },
  {
   "cell_type": "markdown",
   "metadata": {
    "application/vnd.databricks.v1+cell": {
     "cellMetadata": {},
     "inputWidgets": {},
     "nuid": "d338bc96-be9b-41e3-9a38-ec2fa6361480",
     "showTitle": false,
     "title": ""
    }
   },
   "source": [
    "##### VERIFYING THE SCHEMA FOR ALL THE DATASETS"
   ]
  },
  {
   "cell_type": "code",
   "execution_count": 0,
   "metadata": {
    "application/vnd.databricks.v1+cell": {
     "cellMetadata": {
      "byteLimit": 2048000,
      "rowLimit": 10000
     },
     "inputWidgets": {},
     "nuid": "a3889ab4-f644-436f-972d-fe7b4940e90a",
     "showTitle": false,
     "title": ""
    }
   },
   "outputs": [
    {
     "name": "stdout",
     "output_type": "stream",
     "text": [
      "SCHEMA FOR DATASET : USERS\n",
      "root\n",
      " |-- created_at: string (nullable = true)\n",
      " |-- deleted_at: string (nullable = true)\n",
      " |-- email_address: string (nullable = true)\n",
      " |-- first_name: string (nullable = true)\n",
      " |-- id: string (nullable = true)\n",
      " |-- last_name: string (nullable = true)\n",
      " |-- merged_at: string (nullable = true)\n",
      " |-- parent_user_id: string (nullable = true)\n",
      "\n"
     ]
    }
   ],
   "source": [
    "# Printing the schema for USERS\n",
    "print(\"SCHEMA FOR DATASET : {}\".format(\"USERS\"))\n",
    "users_df.printSchema()"
   ]
  },
  {
   "cell_type": "code",
   "execution_count": 0,
   "metadata": {
    "application/vnd.databricks.v1+cell": {
     "cellMetadata": {
      "byteLimit": 2048000,
      "rowLimit": 10000
     },
     "inputWidgets": {},
     "nuid": "e00745d4-4c37-48c4-910b-e5dcf1362424",
     "showTitle": false,
     "title": ""
    }
   },
   "outputs": [
    {
     "name": "stdout",
     "output_type": "stream",
     "text": [
      "+-------------------+----------+--------------------+----------+--------+---------+---------+--------------+\n",
      "|         created_at|deleted_at|       email_address|first_name|      id|last_name|merged_at|parent_user_id|\n",
      "+-------------------+----------+--------------------+----------+--------+---------+---------+--------------+\n",
      "|2014-12-20 07:07:45|      null|ArataHopper@earth...|     Arata| 51590.0|   Hopper|     null|          null|\n",
      "|2016-10-14 05:39:20|      null|Riya_Gruber1974@m...|      Riya|158891.0|   Gruber|     null|          null|\n",
      "|2017-01-21 10:20:09|      null|Peter_Sousa@yahoo...|     Peter|179949.0|    Sousa|     null|          null|\n",
      "|2015-10-30 21:31:30|      null|D_Kowalski1962@gm...|         D| 98000.0| Kowalski|     null|          null|\n",
      "|2015-10-24 16:27:27|      null| SNovak1966@mail.com|         S| 93994.0|    Novak|     null|          null|\n",
      "+-------------------+----------+--------------------+----------+--------+---------+---------+--------------+\n",
      "only showing top 5 rows\n",
      "\n"
     ]
    }
   ],
   "source": [
    "# visualize the dataset\n",
    "users_df.show(5)"
   ]
  },
  {
   "cell_type": "code",
   "execution_count": 0,
   "metadata": {
    "application/vnd.databricks.v1+cell": {
     "cellMetadata": {
      "byteLimit": 2048000,
      "rowLimit": 10000
     },
     "inputWidgets": {},
     "nuid": "9a15a20d-64ae-4538-b475-82cea099420e",
     "showTitle": false,
     "title": ""
    }
   },
   "outputs": [
    {
     "name": "stdout",
     "output_type": "stream",
     "text": [
      "SCHEMA FOR DATASET : ORDERS\n",
      "root\n",
      " |-- InvoiceId: string (nullable = true)\n",
      " |-- LineItemId: string (nullable = true)\n",
      " |-- UserId: string (nullable = true)\n",
      " |-- ItemId: string (nullable = true)\n",
      " |-- ItemName: string (nullable = true)\n",
      " |-- ItemCategory: string (nullable = true)\n",
      " |-- Price: string (nullable = true)\n",
      " |-- CreatedAt: string (nullable = true)\n",
      " |-- PaidAt: string (nullable = true)\n",
      "\n"
     ]
    }
   ],
   "source": [
    "# Printing the schema for ORDERS\n",
    "print(\"SCHEMA FOR DATASET : {}\".format(\"ORDERS\"))\n",
    "orders_df.printSchema()"
   ]
  },
  {
   "cell_type": "code",
   "execution_count": 0,
   "metadata": {
    "application/vnd.databricks.v1+cell": {
     "cellMetadata": {
      "byteLimit": 2048000,
      "rowLimit": 10000
     },
     "inputWidgets": {},
     "nuid": "3355874b-a48e-49a6-8f4f-61f5885c72b3",
     "showTitle": false,
     "title": ""
    }
   },
   "outputs": [
    {
     "name": "stdout",
     "output_type": "stream",
     "text": [
      "+---------+----------+------+------+--------------------+------------+-----+---------------+---------------+\n",
      "|InvoiceId|LineItemId|UserId|ItemId|            ItemName|ItemCategory|Price|      CreatedAt|         PaidAt|\n",
      "+---------+----------+------+------+--------------------+------------+-----+---------------+---------------+\n",
      "|   192320|     83118|178481|  3526|   digital apparatus|   apparatus|  330|6/28/2017 21:14|6/27/2017 21:19|\n",
      "|   192320|    207309|178481|  1514|miniature apparat...|   apparatus|   99|6/28/2017 21:14|6/27/2017 21:19|\n",
      "|   192320|    392027|178481|  3712|miniature apparat...|   apparatus|   99|6/28/2017 21:14|6/27/2017 21:19|\n",
      "|    80902|    243831|154133|  3586|reflective instru...|  instrument| 57.2| 10/9/2016 6:57|10/7/2016 10:08|\n",
      "|    80902|    399806|154133|  1061|extra-strength in...|  instrument| 17.6| 10/9/2016 6:57|10/7/2016 10:08|\n",
      "+---------+----------+------+------+--------------------+------------+-----+---------------+---------------+\n",
      "only showing top 5 rows\n",
      "\n"
     ]
    }
   ],
   "source": [
    "# visualize the dataset\n",
    "orders_df.show(5)"
   ]
  },
  {
   "cell_type": "code",
   "execution_count": 0,
   "metadata": {
    "application/vnd.databricks.v1+cell": {
     "cellMetadata": {
      "byteLimit": 2048000,
      "rowLimit": 10000
     },
     "inputWidgets": {},
     "nuid": "d4cce091-a9eb-4cc7-9519-96b6e5ba9ab7",
     "showTitle": false,
     "title": ""
    }
   },
   "outputs": [
    {
     "name": "stdout",
     "output_type": "stream",
     "text": [
      "SCHEMA FOR DATASET : ITEMS\n",
      "root\n",
      " |-- adjective: string (nullable = true)\n",
      " |-- category: string (nullable = true)\n",
      " |-- created_at: string (nullable = true)\n",
      " |-- id: string (nullable = true)\n",
      " |-- modifier: string (nullable = true)\n",
      " |-- name: string (nullable = true)\n",
      " |-- price: string (nullable = true)\n",
      "\n"
     ]
    }
   ],
   "source": [
    "# Printing the schema for ITEMS\n",
    "print(\"SCHEMA FOR DATASET : {}\".format(\"ITEMS\"))\n",
    "items_df.printSchema()"
   ]
  },
  {
   "cell_type": "code",
   "execution_count": 0,
   "metadata": {
    "application/vnd.databricks.v1+cell": {
     "cellMetadata": {
      "byteLimit": 2048000,
      "rowLimit": 10000
     },
     "inputWidgets": {},
     "nuid": "89f1b7ad-f3d1-41dc-9af1-efcdfaf2a947",
     "showTitle": false,
     "title": ""
    }
   },
   "outputs": [
    {
     "name": "stdout",
     "output_type": "stream",
     "text": [
      "+-------------------+-----------+-------------------+------+-------------+--------------------+-----+\n",
      "|          adjective|   category|         created_at|    id|     modifier|                name|price|\n",
      "+-------------------+-----------+-------------------+------+-------------+--------------------+-----+\n",
      "|              fuzzy|contraption|2014-01-15 21:36:09|2512.0|carrying_case|fuzzy contraption...|150.0|\n",
      "|               null| instrument|2013-05-14 05:20:50| 482.0|       refill|   instrument refill| 35.2|\n",
      "|industrial-strength|     module|2014-02-04 19:28:32|2446.0|         null|industrial-streng...|300.0|\n",
      "|            digital|       tool|2013-02-25 12:23:18|1312.0|carrying_case|digital tool carr...| 16.5|\n",
      "|          miniature|     device|2013-08-05 17:20:45|3556.0|      cleaner|miniature device ...| 16.5|\n",
      "+-------------------+-----------+-------------------+------+-------------+--------------------+-----+\n",
      "only showing top 5 rows\n",
      "\n"
     ]
    }
   ],
   "source": [
    "# visualize the dataset\n",
    "items_df.show(5)"
   ]
  },
  {
   "cell_type": "code",
   "execution_count": 0,
   "metadata": {
    "application/vnd.databricks.v1+cell": {
     "cellMetadata": {
      "byteLimit": 2048000,
      "rowLimit": 10000
     },
     "inputWidgets": {},
     "nuid": "abb1a8ca-cbd5-49bf-8647-5e17ee1922a2",
     "showTitle": false,
     "title": ""
    }
   },
   "outputs": [
    {
     "name": "stdout",
     "output_type": "stream",
     "text": [
      "SCHEMA FOR DATASET : EVENTS\n",
      "root\n",
      " |-- event_id: string (nullable = true)\n",
      " |-- event_time: string (nullable = true)\n",
      " |-- user_id: string (nullable = true)\n",
      " |-- event.payload: string (nullable = true)\n",
      "\n"
     ]
    }
   ],
   "source": [
    "# Printing the schema for EVENTS\n",
    "print(\"SCHEMA FOR DATASET : {}\".format(\"EVENTS\"))\n",
    "events_df.printSchema()"
   ]
  },
  {
   "cell_type": "code",
   "execution_count": 0,
   "metadata": {
    "application/vnd.databricks.v1+cell": {
     "cellMetadata": {
      "byteLimit": 2048000,
      "rowLimit": 10000
     },
     "inputWidgets": {},
     "nuid": "9b86337e-2bfc-4040-b7e3-57fe8e676101",
     "showTitle": false,
     "title": ""
    }
   },
   "outputs": [
    {
     "name": "stdout",
     "output_type": "stream",
     "text": [
      "+--------------------+-------------------+--------+--------------------+\n",
      "|            event_id|         event_time| user_id|       event.payload|\n",
      "+--------------------+-------------------+--------+--------------------+\n",
      "|b9de71c5c3cc4cd7a...|2017-06-26 11:23:39|178481.0|{\"event_name\":\"vi...|\n",
      "|23267713c9ea44419...|2017-06-27 10:46:39|178481.0|{\"event_name\":\"vi...|\n",
      "|1b7822fa7b854e019...|2017-06-27 11:15:39|178481.0|{\"event_name\":\"vi...|\n",
      "|2a7a188a626841ac9...|2016-10-05 20:43:10|154133.0|{\"event_name\":\"vi...|\n",
      "|631d657264cc4616a...|2016-10-04 03:29:10|154133.0|{\"event_name\":\"vi...|\n",
      "+--------------------+-------------------+--------+--------------------+\n",
      "only showing top 5 rows\n",
      "\n"
     ]
    }
   ],
   "source": [
    "# visualize the dataset\n",
    "events_df.show(5)"
   ]
  },
  {
   "cell_type": "markdown",
   "metadata": {
    "application/vnd.databricks.v1+cell": {
     "cellMetadata": {},
     "inputWidgets": {},
     "nuid": "16778bd5-45a3-4a8e-b5f2-10faa47b9732",
     "showTitle": false,
     "title": ""
    }
   },
   "source": [
    "### LAYER 2"
   ]
  },
  {
   "cell_type": "markdown",
   "metadata": {
    "application/vnd.databricks.v1+cell": {
     "cellMetadata": {},
     "inputWidgets": {},
     "nuid": "e8c61a76-ed79-4867-9387-78f9773f203b",
     "showTitle": false,
     "title": ""
    }
   },
   "source": [
    "#### APPLYING TRANSFORMATIONS TO DATA TYPES\n",
    "- 1. Include all datasets from layer 1\n",
    "- 2. Rename columns to follow common naming conventions\n",
    "- 3. Change data types based on fields\n",
    "- 4. Flatten struct type for events dataset\n",
    "- 5. Partition FACT tables"
   ]
  },
  {
   "cell_type": "code",
   "execution_count": 0,
   "metadata": {
    "application/vnd.databricks.v1+cell": {
     "cellMetadata": {
      "byteLimit": 2048000,
      "rowLimit": 10000
     },
     "inputWidgets": {},
     "nuid": "171398d8-ead1-4dc1-9b06-7b7cc274fb1e",
     "showTitle": false,
     "title": ""
    }
   },
   "outputs": [],
   "source": [
    "# Importing required libraries for layer 2 transformations\n",
    "from pyspark.sql.types import ( StringType, IntegerType, FloatType, DateType ,TimestampType, StructType, StructField )\n",
    "from pyspark.sql.functions import col, from_json, to_timestamp, when, expr , date_format, concat_ws, year"
   ]
  },
  {
   "cell_type": "markdown",
   "metadata": {
    "application/vnd.databricks.v1+cell": {
     "cellMetadata": {},
     "inputWidgets": {},
     "nuid": "adf7fd70-c546-4fad-ad04-8ae616a852e4",
     "showTitle": false,
     "title": ""
    }
   },
   "source": [
    "##### Applying transformations & Creating Dimensions for USERS dataset"
   ]
  },
  {
   "cell_type": "code",
   "execution_count": 0,
   "metadata": {
    "application/vnd.databricks.v1+cell": {
     "cellMetadata": {
      "byteLimit": 2048000,
      "rowLimit": 10000
     },
     "inputWidgets": {},
     "nuid": "8503bd4d-e328-44a6-a041-272294adf75a",
     "showTitle": false,
     "title": ""
    }
   },
   "outputs": [
    {
     "name": "stdout",
     "output_type": "stream",
     "text": [
      "+------+------------+--------------------+-------------------+------------+-------------+\n",
      "|UserId|UserFullName|    UserEmailAddress|      UserCreatedAt|UserMergedAt|UserDeletedAt|\n",
      "+------+------------+--------------------+-------------------+------------+-------------+\n",
      "| 51590|Arata Hopper|ArataHopper@earth...|2014-12-20 07:07:45|        null|         null|\n",
      "|158891| Riya Gruber|Riya_Gruber1974@m...|2016-10-14 05:39:20|        null|         null|\n",
      "|179949| Peter Sousa|Peter_Sousa@yahoo...|2017-01-21 10:20:09|        null|         null|\n",
      "| 98000|  D Kowalski|D_Kowalski1962@gm...|2015-10-30 21:31:30|        null|         null|\n",
      "| 93994|     S Novak| SNovak1966@mail.com|2015-10-24 16:27:27|        null|         null|\n",
      "+------+------------+--------------------+-------------------+------------+-------------+\n",
      "only showing top 5 rows\n",
      "\n"
     ]
    }
   ],
   "source": [
    "# set the timestamp format\n",
    "set_format = \"yyyy-MM-dd HH:mm:ss\"\n",
    "\n",
    "users_df2  = users_df.withColumn(\"UserId\", col(\"id\").cast(IntegerType())) \\\n",
    "                     .withColumn(\"UserParentId\", col(\"parent_user_id\").cast(IntegerType())) \\\n",
    "                     .withColumn(\"UserFirstName\", col(\"first_name\").cast(StringType())) \\\n",
    "                     .withColumn(\"UserLastName\", col(\"last_name\").cast(StringType())) \\\n",
    "                     .withColumn(\"UserFullName\", concat_ws(\" \", col(\"UserFirstName\"), col(\"UserLastName\"))) \\\n",
    "                     .withColumn(\"UserEmailAddress\", col(\"email_address\").cast(StringType())) \\\n",
    "                     .withColumn(\"UserCreatedAt\", to_timestamp(col(\"created_at\"),set_format)) \\\n",
    "                     .withColumn(\"UserMergedAt\", to_timestamp(col(\"merged_at\"), set_format)) \\\n",
    "                     .withColumn(\"UserDeletedAt\", to_timestamp(col(\"deleted_at\"),set_format)) \\\n",
    "                     .drop(\"id\",\"first_name\", \"last_name\", \"email_address\", \"created_at\",\"merged_at\",\"deleted_at\")\n",
    "                    \n",
    "usersDIM_df = users_df2.select(\"UserId\",\"UserFullName\",\"UserEmailAddress\",\"UserCreatedAt\",\"UserMergedAt\",\"UserDeletedAt\")\n",
    "usersDIM_df.show(5)     "
   ]
  },
  {
   "cell_type": "code",
   "execution_count": 0,
   "metadata": {
    "application/vnd.databricks.v1+cell": {
     "cellMetadata": {
      "byteLimit": 2048000,
      "rowLimit": 10000
     },
     "inputWidgets": {},
     "nuid": "57d6fe8b-7cc5-4b19-b84e-bc87075ce7f9",
     "showTitle": false,
     "title": ""
    }
   },
   "outputs": [
    {
     "name": "stdout",
     "output_type": "stream",
     "text": [
      "root\n",
      " |-- UserId: integer (nullable = true)\n",
      " |-- UserFullName: string (nullable = false)\n",
      " |-- UserEmailAddress: string (nullable = true)\n",
      " |-- UserCreatedAt: timestamp (nullable = true)\n",
      " |-- UserMergedAt: timestamp (nullable = true)\n",
      " |-- UserDeletedAt: timestamp (nullable = true)\n",
      "\n"
     ]
    }
   ],
   "source": [
    "# verify the updated schema \n",
    "usersDIM_df.printSchema()"
   ]
  },
  {
   "cell_type": "markdown",
   "metadata": {
    "application/vnd.databricks.v1+cell": {
     "cellMetadata": {},
     "inputWidgets": {},
     "nuid": "22a809fd-26ca-441f-a310-d1b6ebe9e977",
     "showTitle": false,
     "title": ""
    }
   },
   "source": [
    "##### Applying transformations to ORDERS dataset"
   ]
  },
  {
   "cell_type": "code",
   "execution_count": 0,
   "metadata": {
    "application/vnd.databricks.v1+cell": {
     "cellMetadata": {
      "byteLimit": 2048000,
      "rowLimit": 10000
     },
     "inputWidgets": {},
     "nuid": "810eceff-aec5-4536-ac0c-c7d5970b338a",
     "showTitle": false,
     "title": ""
    }
   },
   "outputs": [
    {
     "name": "stdout",
     "output_type": "stream",
     "text": [
      "root\n",
      " |-- InvoiceId: string (nullable = true)\n",
      " |-- LineItemId: string (nullable = true)\n",
      " |-- UserId: string (nullable = true)\n",
      " |-- ItemId: string (nullable = true)\n",
      " |-- ItemName: string (nullable = true)\n",
      " |-- ItemCategory: string (nullable = true)\n",
      " |-- Price: string (nullable = true)\n",
      " |-- CreatedAt: string (nullable = true)\n",
      " |-- PaidAt: string (nullable = true)\n",
      "\n"
     ]
    }
   ],
   "source": [
    "# Schema before applying transformations\n",
    "orders_df.printSchema()"
   ]
  },
  {
   "cell_type": "code",
   "execution_count": 0,
   "metadata": {
    "application/vnd.databricks.v1+cell": {
     "cellMetadata": {
      "byteLimit": 2048000,
      "rowLimit": 10000
     },
     "inputWidgets": {},
     "nuid": "30a8f36a-f5a4-4617-9f0b-2c9805c92527",
     "showTitle": false,
     "title": ""
    }
   },
   "outputs": [
    {
     "name": "stdout",
     "output_type": "stream",
     "text": [
      "+--------------+------+------+--------------------+-----------------+----------+---------+-------------------+\n",
      "|OrderInvoiceId|UserId|ItemId|       OrderItemName|OrderItemCategory|OrderPrice|OrderYear|     OrderCreatedAt|\n",
      "+--------------+------+------+--------------------+-----------------+----------+---------+-------------------+\n",
      "|        192320|178481|  3526|   digital apparatus|        apparatus|     330.0|     2017|2017-06-28 21:14:00|\n",
      "|        192320|178481|  1514|miniature apparat...|        apparatus|      99.0|     2017|2017-06-28 21:14:00|\n",
      "|        192320|178481|  3712|miniature apparat...|        apparatus|      99.0|     2017|2017-06-28 21:14:00|\n",
      "|         80902|154133|  3586|reflective instru...|       instrument|      57.2|     2016|2016-10-09 06:57:00|\n",
      "|         80902|154133|  1061|extra-strength in...|       instrument|      17.6|     2016|2016-10-09 06:57:00|\n",
      "+--------------+------+------+--------------------+-----------------+----------+---------+-------------------+\n",
      "only showing top 5 rows\n",
      "\n"
     ]
    }
   ],
   "source": [
    "# Applying data transformations\n",
    "\n",
    "orders_df2 = orders_df.withColumn(\"OrderInvoiceId\", col(\"InvoiceId\").cast(IntegerType())) \\\n",
    "                      .withColumn(\"OrderLineItemId\", col(\"LineItemId\").cast(IntegerType())) \\\n",
    "                      .withColumn(\"UserId\", col(\"UserId\").cast(IntegerType())) \\\n",
    "                      .withColumn(\"ItemId\", col(\"ItemId\").cast(IntegerType())) \\\n",
    "                      .withColumn(\"OrderItemName\", col(\"ItemName\").cast(StringType())) \\\n",
    "                      .withColumn(\"OrderItemCategory\", col(\"ItemCategory\").cast(StringType())) \\\n",
    "                      .withColumn(\"OrderPrice\", col(\"Price\").cast(FloatType())) \\\n",
    "                      .withColumn(\"tempCreatedAt\", to_timestamp(\"CreatedAt\", \"M/d/yyyy H:mm\")) \\\n",
    "                      .withColumn(\"OrderCreatedAt\", to_timestamp(col(\"tempCreatedAt\"), set_format)) \\\n",
    "                      .withColumn(\"tempPaidAt\", to_timestamp(\"PaidAt\", \"M/d/yyyy H:mm\")) \\\n",
    "                      .withColumn(\"OrderPaidAt\", to_timestamp(col(\"tempPaidAt\"), set_format)) \\\n",
    "                      .withColumn(\"OrderYear\", year(col(\"OrderCreatedAt\"))) \\\n",
    "                      .drop(\"InvoiceId\",\"LineItemId\", \"ItemName\",\"ItemCategory\",\"Price\",\"CreatedAt\",\"tempCreatedAt\",\"PaidAt\",\"tempPaidAt\")\n",
    "                    \n",
    "ordersDIM_df = orders_df2.select(\"OrderInvoiceId\",\"UserId\",\"ItemId\",\"OrderItemName\",\"OrderItemCategory\",\"OrderPrice\",\"OrderYear\",\"OrderCreatedAt\")\n",
    "\n",
    "ordersDIM_df.show(5)"
   ]
  },
  {
   "cell_type": "code",
   "execution_count": 0,
   "metadata": {
    "application/vnd.databricks.v1+cell": {
     "cellMetadata": {
      "byteLimit": 2048000,
      "rowLimit": 10000
     },
     "inputWidgets": {},
     "nuid": "07501ab9-d6f1-414b-97f7-c27533b63cc8",
     "showTitle": false,
     "title": ""
    }
   },
   "outputs": [
    {
     "name": "stdout",
     "output_type": "stream",
     "text": [
      "root\n",
      " |-- OrderInvoiceId: integer (nullable = true)\n",
      " |-- UserId: integer (nullable = true)\n",
      " |-- ItemId: integer (nullable = true)\n",
      " |-- OrderItemName: string (nullable = true)\n",
      " |-- OrderItemCategory: string (nullable = true)\n",
      " |-- OrderPrice: float (nullable = true)\n",
      " |-- OrderYear: integer (nullable = true)\n",
      "\n"
     ]
    }
   ],
   "source": [
    "# Schema After applying transformations\n",
    "ordersDIM_df.printSchema()"
   ]
  },
  {
   "cell_type": "markdown",
   "metadata": {
    "application/vnd.databricks.v1+cell": {
     "cellMetadata": {},
     "inputWidgets": {},
     "nuid": "02fc0646-174f-4411-9a5d-946bd806af6d",
     "showTitle": false,
     "title": ""
    }
   },
   "source": [
    "##### Applying transformations to Items dataset"
   ]
  },
  {
   "cell_type": "code",
   "execution_count": 0,
   "metadata": {
    "application/vnd.databricks.v1+cell": {
     "cellMetadata": {
      "byteLimit": 2048000,
      "rowLimit": 10000
     },
     "inputWidgets": {},
     "nuid": "d1d72380-2ac1-4087-b5dc-01d83c30b0c4",
     "showTitle": false,
     "title": ""
    }
   },
   "outputs": [
    {
     "name": "stdout",
     "output_type": "stream",
     "text": [
      "root\n",
      " |-- adjective: string (nullable = true)\n",
      " |-- category: string (nullable = true)\n",
      " |-- created_at: string (nullable = true)\n",
      " |-- id: string (nullable = true)\n",
      " |-- modifier: string (nullable = true)\n",
      " |-- name: string (nullable = true)\n",
      " |-- price: string (nullable = true)\n",
      "\n"
     ]
    }
   ],
   "source": [
    "# Printing schema before transformations\n",
    "items_df.printSchema()"
   ]
  },
  {
   "cell_type": "code",
   "execution_count": 0,
   "metadata": {
    "application/vnd.databricks.v1+cell": {
     "cellMetadata": {
      "byteLimit": 2048000,
      "rowLimit": 10000
     },
     "inputWidgets": {},
     "nuid": "259e34a5-8979-4873-99ec-acd5e1815de8",
     "showTitle": false,
     "title": ""
    }
   },
   "outputs": [
    {
     "name": "stdout",
     "output_type": "stream",
     "text": [
      "+------+--------------------+---------+------------+-------------+-------------------+\n",
      "|ItemId|            ItemName|ItemPrice|ItemCategory| ItemModifier|      ItemCreatedAt|\n",
      "+------+--------------------+---------+------------+-------------+-------------------+\n",
      "|  2512|fuzzy contraption...|    150.0| contraption|carrying_case|2014-01-15 21:36:09|\n",
      "|   482|   instrument refill|     35.2|  instrument|       refill|2013-05-14 05:20:50|\n",
      "|  2446|industrial-streng...|    300.0|      module|         null|2014-02-04 19:28:32|\n",
      "|  1312|digital tool carr...|     16.5|        tool|carrying_case|2013-02-25 12:23:18|\n",
      "|  3556|miniature device ...|     16.5|      device|      cleaner|2013-08-05 17:20:45|\n",
      "+------+--------------------+---------+------------+-------------+-------------------+\n",
      "only showing top 5 rows\n",
      "\n"
     ]
    }
   ],
   "source": [
    "# Applying data transformations\n",
    "\n",
    "items_df2 = items_df.withColumn(\"ItemId\", col(\"id\").cast(IntegerType())) \\\n",
    "                      .withColumn(\"ItemName\", col(\"name\").cast(StringType())) \\\n",
    "                      .withColumn(\"ItemPrice\", col(\"price\").cast(FloatType())) \\\n",
    "                      .withColumn(\"ItemCategory\", col(\"category\").cast(StringType())) \\\n",
    "                      .withColumn(\"ItemModifier\", col(\"modifier\").cast(StringType())) \\\n",
    "                      .withColumn(\"ItemAdjective\", col(\"adjective\").cast(StringType())) \\\n",
    "                      .withColumn(\"ItemCreatedAt\", col(\"created_at\").cast(TimestampType()))\\\n",
    "                      .drop(\"id\",\"name\", \"price\", \"category\", \"modifier\",\"adjective\",\"created_at\")\n",
    "                      \n",
    "itemsDIM_df = items_df2.select(\"ItemId\",\"ItemName\",\"ItemPrice\",\"ItemCategory\",\"ItemModifier\", \"ItemCreatedAt\")\n",
    "\n",
    "itemsDIM_df.show(5)                                            "
   ]
  },
  {
   "cell_type": "code",
   "execution_count": 0,
   "metadata": {
    "application/vnd.databricks.v1+cell": {
     "cellMetadata": {
      "byteLimit": 2048000,
      "rowLimit": 10000
     },
     "inputWidgets": {},
     "nuid": "1d6bf205-3f69-4a37-89da-238a571b412a",
     "showTitle": false,
     "title": ""
    }
   },
   "outputs": [
    {
     "name": "stdout",
     "output_type": "stream",
     "text": [
      "root\n",
      " |-- ItemId: integer (nullable = true)\n",
      " |-- ItemName: string (nullable = true)\n",
      " |-- ItemPrice: float (nullable = true)\n",
      " |-- ItemCategory: string (nullable = true)\n",
      " |-- ItemModifier: string (nullable = true)\n",
      " |-- ItemCreatedAt: timestamp (nullable = true)\n",
      "\n"
     ]
    }
   ],
   "source": [
    "# Schema After applying transformations\n",
    "itemsDIM_df.printSchema()"
   ]
  },
  {
   "cell_type": "markdown",
   "metadata": {
    "application/vnd.databricks.v1+cell": {
     "cellMetadata": {},
     "inputWidgets": {},
     "nuid": "975f749d-0e8e-4b38-8bf1-9a6b3587c1b0",
     "showTitle": false,
     "title": ""
    }
   },
   "source": [
    "##### Applying transformations to EVENTS dataset"
   ]
  },
  {
   "cell_type": "code",
   "execution_count": 0,
   "metadata": {
    "application/vnd.databricks.v1+cell": {
     "cellMetadata": {
      "byteLimit": 2048000,
      "rowLimit": 10000
     },
     "inputWidgets": {},
     "nuid": "3e8e1f34-2e37-47f6-b8ed-4ceb8a6cf42a",
     "showTitle": false,
     "title": ""
    }
   },
   "outputs": [
    {
     "name": "stdout",
     "output_type": "stream",
     "text": [
      "+--------------------+-------------------+--------+--------------------+\n",
      "|            event_id|         event_time| user_id|       event.payload|\n",
      "+--------------------+-------------------+--------+--------------------+\n",
      "|b9de71c5c3cc4cd7a...|2017-06-26 11:23:39|178481.0|{\"event_name\":\"vi...|\n",
      "|23267713c9ea44419...|2017-06-27 10:46:39|178481.0|{\"event_name\":\"vi...|\n",
      "|1b7822fa7b854e019...|2017-06-27 11:15:39|178481.0|{\"event_name\":\"vi...|\n",
      "|2a7a188a626841ac9...|2016-10-05 20:43:10|154133.0|{\"event_name\":\"vi...|\n",
      "|631d657264cc4616a...|2016-10-04 03:29:10|154133.0|{\"event_name\":\"vi...|\n",
      "+--------------------+-------------------+--------+--------------------+\n",
      "only showing top 5 rows\n",
      "\n"
     ]
    }
   ],
   "source": [
    "# Printing data structure before transformations\n",
    "events_df.show(5)"
   ]
  },
  {
   "cell_type": "markdown",
   "metadata": {
    "application/vnd.databricks.v1+cell": {
     "cellMetadata": {},
     "inputWidgets": {},
     "nuid": "b8ce0d07-15e0-45bf-b5ca-4524b6a80cea",
     "showTitle": false,
     "title": ""
    }
   },
   "source": [
    "For EVENTS dataset, before applying transformations to datatypes, we need to do a bit preprocessing and flatten the nested struct collection\n",
    "\n",
    "##### FLATTENING THE STRUCT COLLECTION"
   ]
  },
  {
   "cell_type": "code",
   "execution_count": 0,
   "metadata": {
    "application/vnd.databricks.v1+cell": {
     "cellMetadata": {
      "byteLimit": 2048000,
      "rowLimit": 10000
     },
     "inputWidgets": {},
     "nuid": "9aef51f8-476a-49a3-aaf2-e4b2bef4308f",
     "showTitle": false,
     "title": ""
    }
   },
   "outputs": [
    {
     "name": "stdout",
     "output_type": "stream",
     "text": [
      "+--------------------+-------------------+--------+----------+--------+--------------+---------------+\n",
      "|            event_id|         event_time| user_id|event_name|platform|parameter_name|parameter_value|\n",
      "+--------------------+-------------------+--------+----------+--------+--------------+---------------+\n",
      "|b9de71c5c3cc4cd7a...|2017-06-26 11:23:39|178481.0| view_item| android|       item_id|           3526|\n",
      "|23267713c9ea44419...|2017-06-27 10:46:39|178481.0| view_item| android|       item_id|           1514|\n",
      "|1b7822fa7b854e019...|2017-06-27 11:15:39|178481.0| view_item| android|       item_id|           3712|\n",
      "|2a7a188a626841ac9...|2016-10-05 20:43:10|154133.0| view_item| android|       item_id|           3586|\n",
      "|631d657264cc4616a...|2016-10-04 03:29:10|154133.0| view_item| android|       item_id|           1061|\n",
      "+--------------------+-------------------+--------+----------+--------+--------------+---------------+\n",
      "only showing top 5 rows\n",
      "\n"
     ]
    }
   ],
   "source": [
    "# Defining the schema based on the structure of JSON string\n",
    "json_schema = StructType([\n",
    "    StructField(\"event_name\", StringType(), True),\n",
    "    StructField(\"platform\", StringType(), True),\n",
    "    StructField(\"parameter_name\", StringType(), True),\n",
    "    StructField(\"parameter_value\", StringType(), True)\n",
    "    \n",
    "])\n",
    "\n",
    "# Parsing the JSON string into a StructType and creating new columns\n",
    "events_df = events_df.withColumn(\"json_string\", from_json(col(\"`event.payload`\"), json_schema))\n",
    "\n",
    "# Extracting the individual fields into separate columns\n",
    "events_df = events_df.withColumn(\"event_name\", col(\"json_string.event_name\")) \\\n",
    "        .withColumn(\"platform\", col(\"json_string.platform\"))\\\n",
    "        .withColumn(\"parameter_name\", col(\"json_string.parameter_name\")) \\\n",
    "        .withColumn(\"parameter_value\", col(\"json_string.parameter_value\"))\n",
    "       # Add more withColumn calls for other fields in your JSON data\n",
    "\n",
    "# dropping original columns\n",
    "drop_columns = [\"event.payload\",\"json_string\"]\n",
    "\n",
    "# Dropping the original JSON string column\n",
    "events_df = events_df.drop(*drop_columns)\n",
    "\n",
    "events_df.show(5)\n"
   ]
  },
  {
   "cell_type": "markdown",
   "metadata": {
    "application/vnd.databricks.v1+cell": {
     "cellMetadata": {},
     "inputWidgets": {},
     "nuid": "d5b0783c-0741-47f4-8368-8cbdd97546f0",
     "showTitle": false,
     "title": ""
    }
   },
   "source": [
    "##### APPLYING THE TRANSFORMATIONS TO FLATTENED DATASET"
   ]
  },
  {
   "cell_type": "code",
   "execution_count": 0,
   "metadata": {
    "application/vnd.databricks.v1+cell": {
     "cellMetadata": {
      "byteLimit": 2048000,
      "rowLimit": 10000
     },
     "inputWidgets": {},
     "nuid": "7cf35829-9684-4629-b032-5fc93c018f80",
     "showTitle": false,
     "title": ""
    }
   },
   "outputs": [
    {
     "name": "stdout",
     "output_type": "stream",
     "text": [
      "root\n",
      " |-- event_id: string (nullable = true)\n",
      " |-- event_time: string (nullable = true)\n",
      " |-- user_id: string (nullable = true)\n",
      " |-- event_name: string (nullable = true)\n",
      " |-- platform: string (nullable = true)\n",
      " |-- parameter_name: string (nullable = true)\n",
      " |-- parameter_value: string (nullable = true)\n",
      "\n"
     ]
    }
   ],
   "source": [
    "# Printing the schema after transformations\n",
    "events_df.printSchema()"
   ]
  },
  {
   "cell_type": "code",
   "execution_count": 0,
   "metadata": {
    "application/vnd.databricks.v1+cell": {
     "cellMetadata": {
      "byteLimit": 2048000,
      "rowLimit": 10000
     },
     "inputWidgets": {},
     "nuid": "a1d6ba77-b342-44a8-b769-7e753531d50c",
     "showTitle": false,
     "title": ""
    }
   },
   "outputs": [
    {
     "name": "stdout",
     "output_type": "stream",
     "text": [
      "+--------------------+------+---------+-------------+-------------------+-------------------+\n",
      "|             EventId|UserId|EventName|EventPlatform|EventParameterValue|          EventTime|\n",
      "+--------------------+------+---------+-------------+-------------------+-------------------+\n",
      "|b9de71c5c3cc4cd7a...|178481|view_item|      android|               3526|2017-06-26 11:23:39|\n",
      "|23267713c9ea44419...|178481|view_item|      android|               1514|2017-06-27 10:46:39|\n",
      "|1b7822fa7b854e019...|178481|view_item|      android|               3712|2017-06-27 11:15:39|\n",
      "|2a7a188a626841ac9...|154133|view_item|      android|               3586|2016-10-05 20:43:10|\n",
      "|631d657264cc4616a...|154133|view_item|      android|               1061|2016-10-04 03:29:10|\n",
      "+--------------------+------+---------+-------------+-------------------+-------------------+\n",
      "only showing top 5 rows\n",
      "\n"
     ]
    }
   ],
   "source": [
    "# Applying datatype transformations to events dataset\n",
    "events_df2 =  events_df.withColumn(\"EventId\", col(\"event_id\").cast(StringType())) \\\n",
    "                        .withColumn(\"UserId\", col(\"user_id\").cast(IntegerType())) \\\n",
    "                        .withColumn(\"EventName\", col(\"event_name\").cast(StringType())) \\\n",
    "                        .withColumn(\"EventPlatform\", col(\"platform\").cast(StringType())) \\\n",
    "                        .withColumn(\"EventParameterName\", col(\"parameter_name\").cast(StringType())) \\\n",
    "                        .withColumn(\"EventParameterValue\", col(\"parameter_value\").cast(StringType())) \\\n",
    "                        .withColumn(\"EventTime\", col(\"event_time\").cast(TimestampType()))\\\n",
    "                        .drop(\"event_id\",\"event_name\", \"user_id\", \"platform\", \"parameter_name\",\"parameter_value\",\"event_time\")\n",
    "\n",
    "\n",
    "eventsDIM_df = events_df2.select(\"EventId\",\"UserId\",\"EventName\",\"EventPlatform\", \"EventParameterValue\",\"EventTime\")                    \n",
    "                        \n",
    "eventsDIM_df.show(5)"
   ]
  },
  {
   "cell_type": "code",
   "execution_count": 0,
   "metadata": {
    "application/vnd.databricks.v1+cell": {
     "cellMetadata": {
      "byteLimit": 2048000,
      "rowLimit": 10000
     },
     "inputWidgets": {},
     "nuid": "3b9aa8ec-dfb4-4216-a610-806116acd532",
     "showTitle": false,
     "title": ""
    }
   },
   "outputs": [
    {
     "name": "stdout",
     "output_type": "stream",
     "text": [
      "root\n",
      " |-- EventId: string (nullable = true)\n",
      " |-- UserId: integer (nullable = true)\n",
      " |-- EventName: string (nullable = true)\n",
      " |-- EventPlatform: string (nullable = true)\n",
      " |-- EventParameterValue: string (nullable = true)\n",
      " |-- EventTime: timestamp (nullable = true)\n",
      "\n"
     ]
    }
   ],
   "source": [
    "# Printing schema after applying transformations\n",
    "eventsDIM_df.printSchema()"
   ]
  },
  {
   "cell_type": "markdown",
   "metadata": {
    "application/vnd.databricks.v1+cell": {
     "cellMetadata": {},
     "inputWidgets": {},
     "nuid": "fdb28025-9a45-4688-b33f-03ef85daa336",
     "showTitle": false,
     "title": ""
    }
   },
   "source": [
    "### LAYER 3"
   ]
  },
  {
   "cell_type": "markdown",
   "metadata": {
    "application/vnd.databricks.v1+cell": {
     "cellMetadata": {},
     "inputWidgets": {},
     "nuid": "2b76006b-7a6a-4643-8842-1f9d9378c314",
     "showTitle": false,
     "title": ""
    }
   },
   "source": [
    "#### CREATING DATA MARTS\n",
    "\n",
    "\n",
    "##### DATAMART 1 \n",
    "- TOP_ITEMS"
   ]
  },
  {
   "cell_type": "markdown",
   "metadata": {
    "application/vnd.databricks.v1+cell": {
     "cellMetadata": {},
     "inputWidgets": {},
     "nuid": "af8441df-d4d9-43a7-bb4c-63cb5dfb8a66",
     "showTitle": false,
     "title": ""
    }
   },
   "source": [
    "##### RESEARCH QUESTIONS\n",
    "\n",
    "- **top_items** data mart with all sold items with additional attributes:\n",
    "  - For every year (based on the created_at attribute):\n",
    "  - Total number of an items sold in a particular year\n",
    "  - Rank of an item based on the total number of items sold in a particular year\n",
    "  - Total sales from an item in a particular year\n",
    "  - Rank of an item based on the total sales in a particular year\n",
    "  - Total number of items sold in all years\n",
    "  - Rank of an item based on the total number of sales\n",
    "  - Total sales of an item in all years\n",
    "  - Rank of an item based on the total sales"
   ]
  },
  {
   "cell_type": "code",
   "execution_count": 0,
   "metadata": {
    "application/vnd.databricks.v1+cell": {
     "cellMetadata": {
      "byteLimit": 2048000,
      "rowLimit": 10000
     },
     "inputWidgets": {},
     "nuid": "025a58c3-f991-40da-a539-d8613997625c",
     "showTitle": false,
     "title": ""
    }
   },
   "outputs": [],
   "source": [
    "# Importing required libraries for Layer 3 \n",
    "from pyspark.sql.functions import year, month, count, sum \n",
    "from pyspark.sql import functions as F\n",
    "from pyspark.sql import Window"
   ]
  },
  {
   "cell_type": "code",
   "execution_count": 0,
   "metadata": {
    "application/vnd.databricks.v1+cell": {
     "cellMetadata": {
      "byteLimit": 2048000,
      "rowLimit": 10000
     },
     "inputWidgets": {},
     "nuid": "2f5db92b-45f3-4870-86a4-5a0fd25ae656",
     "showTitle": false,
     "title": ""
    }
   },
   "outputs": [
    {
     "name": "stdout",
     "output_type": "stream",
     "text": [
      "+--------------+------+------+--------------------+------------+---------+---------+\n",
      "|OrderInvoiceId|UserId|ItemId|            ItemName|ItemCategory|ItemPrice|OrderYear|\n",
      "+--------------+------+------+--------------------+------------+---------+---------+\n",
      "|        192320|178481|  3526|   digital apparatus|   apparatus|    330.0|     2017|\n",
      "|        192320|178481|  1514|miniature apparat...|   apparatus|     99.0|     2017|\n",
      "|        192320|178481|  3712|miniature apparat...|   apparatus|     99.0|     2017|\n",
      "|         80902|154133|  3586|reflective instru...|  instrument|     57.2|     2016|\n",
      "|         80902|154133|  1061|extra-strength in...|  instrument|     17.6|     2016|\n",
      "+--------------+------+------+--------------------+------------+---------+---------+\n",
      "only showing top 5 rows\n",
      "\n"
     ]
    }
   ],
   "source": [
    "# Creating a dimension table for orders and items \n",
    "items_sold_DM_df = (\n",
    "    ordersDIM_df\n",
    "    .join(itemsDIM_df, \"ItemId\", \"inner\")\n",
    "    .select(\"OrderInvoiceId\",\"UserId\",\"ItemId\",\"ItemName\",\"ItemCategory\",\"ItemPrice\",\"OrderYear\")\n",
    ")\n",
    "items_sold_DM_df.show(5)"
   ]
  },
  {
   "cell_type": "markdown",
   "metadata": {
    "application/vnd.databricks.v1+cell": {
     "cellMetadata": {},
     "inputWidgets": {},
     "nuid": "da848d9e-f5e2-4a1f-a27a-261d0d880879",
     "showTitle": false,
     "title": ""
    }
   },
   "source": [
    "- **1.1** For every year (based on the created_at attribute):\n",
    "  - **1.1.1** Total number of an items sold in a particular year"
   ]
  },
  {
   "cell_type": "code",
   "execution_count": 0,
   "metadata": {
    "application/vnd.databricks.v1+cell": {
     "cellMetadata": {
      "byteLimit": 2048000,
      "rowLimit": 10000
     },
     "inputWidgets": {},
     "nuid": "e276d3cc-32b8-4337-863b-7f8e3e08fa5e",
     "showTitle": false,
     "title": ""
    }
   },
   "outputs": [
    {
     "name": "stdout",
     "output_type": "stream",
     "text": [
      "+---------+----------+\n",
      "|OrderYear|ItemCounts|\n",
      "+---------+----------+\n",
      "|     2018|      6202|\n",
      "|     2017|     13577|\n",
      "|     2016|     11647|\n",
      "|     2015|      8989|\n",
      "|     2014|      5637|\n",
      "|     2013|      1350|\n",
      "+---------+----------+\n",
      "\n"
     ]
    }
   ],
   "source": [
    "# Total number of sales in a particular year\n",
    "\n",
    "TotalItemsCountByYear_df = items_sold_DM_df.groupBy(\"OrderYear\") \\\n",
    "                      .agg(count(\"ItemId\").alias(\"ItemCounts\")) \\\n",
    "                      .orderBy(\"OrderYear\")\n",
    "\n",
    "#Sorting the output based on the recent most year\n",
    "TotalItemsCountByYear_df = TotalItemsCountByYear_df.orderBy(col(\"OrderYear\").desc())            \n",
    "TotalItemsCountByYear_df.show()            "
   ]
  },
  {
   "cell_type": "markdown",
   "metadata": {
    "application/vnd.databricks.v1+cell": {
     "cellMetadata": {
      "byteLimit": 2048000,
      "rowLimit": 10000
     },
     "inputWidgets": {},
     "nuid": "d563767f-8ccb-4fa8-bdc7-11157655574a",
     "showTitle": false,
     "title": ""
    }
   },
   "source": [
    "- **1.1.2** Rank of an item based on the total number of items sold in a particular year"
   ]
  },
  {
   "cell_type": "code",
   "execution_count": 0,
   "metadata": {
    "application/vnd.databricks.v1+cell": {
     "cellMetadata": {
      "byteLimit": 2048000,
      "rowLimit": 10000
     },
     "inputWidgets": {},
     "nuid": "d134e47a-3d9f-4e97-8f97-7e206822ced0",
     "showTitle": false,
     "title": ""
    }
   },
   "outputs": [
    {
     "name": "stdout",
     "output_type": "stream",
     "text": [
      "+------+--------+---------+---------+\n",
      "|ItemId|Quantity|item_rank|OrderYear|\n",
      "+------+--------+---------+---------+\n",
      "|  2454|       9|        1|     2018|\n",
      "|   194|       9|        1|     2018|\n",
      "|  3882|       9|        1|     2018|\n",
      "|   132|       9|        1|     2018|\n",
      "|  1586|       8|        5|     2018|\n",
      "|  3277|       8|        5|     2018|\n",
      "|  1793|       8|        5|     2018|\n",
      "|  1295|       8|        5|     2018|\n",
      "|  2647|       8|        5|     2018|\n",
      "|  2260|       8|        5|     2018|\n",
      "+------+--------+---------+---------+\n",
      "only showing top 10 rows\n",
      "\n"
     ]
    }
   ],
   "source": [
    "# Rank of an item based on the total number of items sold in a particular year e.g 2018\n",
    "# Filter the DataFrame to get data for the year e.g 2018\n",
    "items_sold_DM_df_2018 = items_sold_DM_df.filter(items_sold_DM_df[\"OrderYear\"] == 2018)\n",
    "\n",
    "# Get the total number of items sold for each item for the year 2018\n",
    "item_quantity_df = items_sold_DM_df_2018.groupBy(\"ItemId\", \"OrderYear\").agg(\n",
    "    F.count(\"ItemId\").alias(\"Quantity\")\n",
    ")\n",
    "\n",
    "# Create a partition to extract the data\n",
    "window_spec = Window.partitionBy(\"OrderYear\").orderBy(F.col(\"Quantity\").desc())\n",
    "\n",
    "# Rank the items based on year\n",
    "RankTotalItemsCountByYear_df = item_quantity_df.withColumn(\"item_rank\", F.rank().over(window_spec)) \\\n",
    "                                               .select(\"ItemId\", \"Quantity\", \"item_rank\", \"OrderYear\")\n",
    "\n",
    "RankTotalItemsCountByYear_df.show(10)"
   ]
  },
  {
   "cell_type": "markdown",
   "metadata": {
    "application/vnd.databricks.v1+cell": {
     "cellMetadata": {},
     "inputWidgets": {},
     "nuid": "76cd3951-d5d9-409f-913c-fab108b59997",
     "showTitle": false,
     "title": ""
    }
   },
   "source": [
    "- **1.1.3** Total sales from an item in a particular year"
   ]
  },
  {
   "cell_type": "code",
   "execution_count": 0,
   "metadata": {
    "application/vnd.databricks.v1+cell": {
     "cellMetadata": {
      "byteLimit": 2048000,
      "rowLimit": 10000
     },
     "inputWidgets": {},
     "nuid": "2aa235d1-1cd0-49bb-b947-a33d3ded1607",
     "showTitle": false,
     "title": ""
    }
   },
   "outputs": [
    {
     "name": "stdout",
     "output_type": "stream",
     "text": [
      "+------+--------+-------------+------------------+\n",
      "|ItemId|Quantity|ItemUnitPrice|        TotalSales|\n",
      "+------+--------+-------------+------------------+\n",
      "|  3192|       6|        165.0|             990.0|\n",
      "|  3264|       5|         18.0|              90.0|\n",
      "|  1149|       5|         35.0|             175.0|\n",
      "|  2261|       4|          9.0|              36.0|\n",
      "|   731|       4|        330.0|            1320.0|\n",
      "|  1975|       4|         20.0|              80.0|\n",
      "|  1944|       4|         11.7| 46.79999923706055|\n",
      "|   774|       4|         13.2| 52.79999923706055|\n",
      "|  3978|       4|         30.0|             120.0|\n",
      "|   760|       4|          2.7|10.800000190734863|\n",
      "+------+--------+-------------+------------------+\n",
      "only showing top 10 rows\n",
      "\n"
     ]
    }
   ],
   "source": [
    "# Get the DataFrame to get data for the year 2013\n",
    "items_sold_DM_df_2013 = items_sold_DM_df.filter(items_sold_DM_df[\"OrderYear\"] == 2013)\n",
    "\n",
    "# Grouping the data and calculating aggregations\n",
    "TotalSalesItems_df = items_sold_DM_df_2013.groupBy(\"ItemId\").agg(\n",
    "                                            F.count(\"ItemId\").alias(\"Quantity\"),\n",
    "                                            F.first(\"ItemPrice\").alias(\"ItemUnitPrice\"),\n",
    "                                            F.sum(\"ItemPrice\").alias(\"TotalSales\")\n",
    "                                        ).orderBy(F.col(\"Quantity\").desc())\n",
    "\n",
    "TotalSalesItems_df.show(10)"
   ]
  },
  {
   "cell_type": "markdown",
   "metadata": {
    "application/vnd.databricks.v1+cell": {
     "cellMetadata": {},
     "inputWidgets": {},
     "nuid": "5915307e-30ea-4584-88ec-134d3012f670",
     "showTitle": false,
     "title": ""
    }
   },
   "source": [
    "- **1.1.4**  Rank of an item based on the total sales in a particular year"
   ]
  },
  {
   "cell_type": "code",
   "execution_count": 0,
   "metadata": {
    "application/vnd.databricks.v1+cell": {
     "cellMetadata": {
      "byteLimit": 2048000,
      "rowLimit": 10000
     },
     "inputWidgets": {},
     "nuid": "fb81252d-d50b-4923-b97e-9e080518d731",
     "showTitle": false,
     "title": ""
    }
   },
   "outputs": [
    {
     "name": "stdout",
     "output_type": "stream",
     "text": [
      "+------+----------+---------+---------+\n",
      "|ItemId|TotalSales|item_rank|OrderYear|\n",
      "+------+----------+---------+---------+\n",
      "|  2592|    2500.0|        1|     2013|\n",
      "|   844|    1800.0|        2|     2013|\n",
      "|   746|    1500.0|        3|     2013|\n",
      "|   649|    1500.0|        3|     2013|\n",
      "|   457|    1500.0|        3|     2013|\n",
      "|  2676|    1500.0|        3|     2013|\n",
      "|   183|    1375.0|        7|     2013|\n",
      "|  2516|    1350.0|        8|     2013|\n",
      "|   181|    1335.0|        9|     2013|\n",
      "|   731|    1320.0|       10|     2013|\n",
      "+------+----------+---------+---------+\n",
      "only showing top 10 rows\n",
      "\n"
     ]
    }
   ],
   "source": [
    "# Filter the DataFrame to get data for the year e.g 2013\n",
    "items_sold_DM_df_2013 = items_sold_DM_df.filter(ordersDIM_df[\"OrderYear\"] == 2013)\n",
    "\n",
    "# Group the data and calculate the total sales\n",
    "item_total_sales_df = items_sold_DM_df_2013.groupBy(\"ItemId\", \"ItemPrice\", \"OrderYear\") \\\n",
    "                                           .agg(F.sum(\"ItemPrice\").alias(\"TotalSales\"))\n",
    "\n",
    "# Create a partition of OrderYear and order by TotalSales\n",
    "window_spec = Window.partitionBy(\"OrderYear\").orderBy(F.col(\"TotalSales\").desc())\n",
    "\n",
    "# Creating new column and ranking the total sales\n",
    "RankTotalSalesItems_df = item_total_sales_df.withColumn(\"item_rank\", F.rank().over(window_spec)) \\\n",
    "                                            .select(\"ItemId\", \"TotalSales\", \"item_rank\", \"OrderYear\")\n",
    "\n",
    "RankTotalSalesItems_df.show(10)"
   ]
  },
  {
   "cell_type": "markdown",
   "metadata": {
    "application/vnd.databricks.v1+cell": {
     "cellMetadata": {},
     "inputWidgets": {},
     "nuid": "961602f9-7c83-4395-9282-de1cce239bdf",
     "showTitle": false,
     "title": ""
    }
   },
   "source": [
    "- **1.2** Total number of items sold in all years"
   ]
  },
  {
   "cell_type": "code",
   "execution_count": 0,
   "metadata": {
    "application/vnd.databricks.v1+cell": {
     "cellMetadata": {
      "byteLimit": 2048000,
      "rowLimit": 10000
     },
     "inputWidgets": {},
     "nuid": "64898d9c-8730-4b30-8806-597f1fb2a9b1",
     "showTitle": false,
     "title": ""
    }
   },
   "outputs": [
    {
     "name": "stdout",
     "output_type": "stream",
     "text": [
      "+--------+\n",
      "|Quantity|\n",
      "+--------+\n",
      "|   47402|\n",
      "+--------+\n",
      "\n"
     ]
    }
   ],
   "source": [
    "# Total number of items sold in all years\n",
    "TotalItemsAllYears_df = ordersDIM_df.agg(F.count(\"ItemId\").alias(\"Quantity\"))\n",
    "TotalItemsAllYears_df.show()"
   ]
  },
  {
   "cell_type": "markdown",
   "metadata": {
    "application/vnd.databricks.v1+cell": {
     "cellMetadata": {},
     "inputWidgets": {},
     "nuid": "b84ce85c-cd54-492f-9508-97b6a35ecfc7",
     "showTitle": false,
     "title": ""
    }
   },
   "source": [
    "- **1.3** Rank of an item based on the total number of sales"
   ]
  },
  {
   "cell_type": "code",
   "execution_count": 0,
   "metadata": {
    "application/vnd.databricks.v1+cell": {
     "cellMetadata": {
      "byteLimit": 2048000,
      "rowLimit": 10000
     },
     "inputWidgets": {},
     "nuid": "1e434413-86e3-4e20-a83b-a3f992fa41a6",
     "showTitle": false,
     "title": ""
    }
   },
   "outputs": [
    {
     "name": "stdout",
     "output_type": "stream",
     "text": [
      "+------+--------+---------+\n",
      "|ItemId|Quantity|item_rank|\n",
      "+------+--------+---------+\n",
      "|  3486|      40|        1|\n",
      "|  1679|      39|        2|\n",
      "|  1119|      38|        3|\n",
      "|  1812|      37|        4|\n",
      "|  2647|      36|        5|\n",
      "|   730|      36|        5|\n",
      "|  3455|      36|        5|\n",
      "|  3733|      36|        5|\n",
      "|  3033|      36|        5|\n",
      "|  3639|      35|       10|\n",
      "+------+--------+---------+\n",
      "only showing top 10 rows\n",
      "\n"
     ]
    }
   ],
   "source": [
    "# Rank of an item based on the total number of sales in all years\n",
    "group_TotalItemsAllYears_df = ordersDIM_df.groupBy(\"ItemId\").agg(F.count(\"ItemId\").alias(\"Quantity\"))\n",
    "window_spec = Window.orderBy(F.desc(\"Quantity\"))\n",
    "RankTotalItemsAllYears_df = group_TotalItemsAllYears_df.withColumn(\"item_rank\", F.rank().over(window_spec))\n",
    "\n",
    "RankTotalItemsAllYears_df.show(10)"
   ]
  },
  {
   "cell_type": "markdown",
   "metadata": {
    "application/vnd.databricks.v1+cell": {
     "cellMetadata": {},
     "inputWidgets": {},
     "nuid": "5dad0b85-a236-416e-8416-793da96404c1",
     "showTitle": false,
     "title": ""
    }
   },
   "source": [
    "- **1.4** Total sales of an item in all years"
   ]
  },
  {
   "cell_type": "code",
   "execution_count": 0,
   "metadata": {
    "application/vnd.databricks.v1+cell": {
     "cellMetadata": {
      "byteLimit": 2048000,
      "rowLimit": 10000
     },
     "inputWidgets": {},
     "nuid": "d7e55048-4780-4497-8a78-9376355ab232",
     "showTitle": false,
     "title": ""
    }
   },
   "outputs": [
    {
     "name": "stdout",
     "output_type": "stream",
     "text": [
      "+------+------------------+\n",
      "|ItemId|        TotalSales|\n",
      "+------+------------------+\n",
      "|   471|             630.0|\n",
      "|  1238|             165.0|\n",
      "|  3794|            2640.0|\n",
      "|  2366|             840.0|\n",
      "|  2659|            2887.5|\n",
      "|  3918|2418.1299362182617|\n",
      "|  2142|               0.0|\n",
      "|  1088|            5346.0|\n",
      "|   463|             522.5|\n",
      "|  1342|           12000.0|\n",
      "+------+------------------+\n",
      "only showing top 10 rows\n",
      "\n"
     ]
    }
   ],
   "source": [
    "# Total sales of an item in all years\n",
    "totalSalesAllYears_df = ordersDIM_df.groupBy(\"ItemId\").agg(F.sum(\"OrderPrice\").alias(\"TotalSales\"))                                                      \n",
    "totalSalesAllYears_df.show(10)"
   ]
  },
  {
   "cell_type": "markdown",
   "metadata": {
    "application/vnd.databricks.v1+cell": {
     "cellMetadata": {
      "byteLimit": 2048000,
      "rowLimit": 10000
     },
     "inputWidgets": {},
     "nuid": "d80784e0-d9d7-44dc-ab41-6ec51b3fd66f",
     "showTitle": false,
     "title": ""
    }
   },
   "source": [
    "- **1.5** Rank of an item based on the total sales"
   ]
  },
  {
   "cell_type": "code",
   "execution_count": 0,
   "metadata": {
    "application/vnd.databricks.v1+cell": {
     "cellMetadata": {
      "byteLimit": 2048000,
      "rowLimit": 10000
     },
     "inputWidgets": {},
     "nuid": "3fd258c8-62fd-4e30-9fae-3c597d54bd57",
     "showTitle": false,
     "title": ""
    }
   },
   "outputs": [
    {
     "name": "stdout",
     "output_type": "stream",
     "text": [
      "+------+----------+---------+\n",
      "|ItemId|TotalSales|item_rank|\n",
      "+------+----------+---------+\n",
      "|  2354|   69750.0|        1|\n",
      "|   669|   46875.0|        2|\n",
      "|  3878|   29700.0|        3|\n",
      "|  2592|   28750.0|        4|\n",
      "|   427|   24000.0|        5|\n",
      "|  3719|   24000.0|        5|\n",
      "|  2492|   23625.0|        7|\n",
      "|  2225|   23562.5|        8|\n",
      "|  2397|   23250.0|        9|\n",
      "|  2676|   22500.0|       10|\n",
      "+------+----------+---------+\n",
      "only showing top 10 rows\n",
      "\n"
     ]
    }
   ],
   "source": [
    "# Rank of an item based on the total sales in all years\n",
    "\n",
    "grouped_totalSalesAllYears_df = ordersDIM_df.groupBy(\"ItemId\").agg(F.sum(\"OrderPrice\").alias(\"TotalSales\"))\n",
    "window_spec = Window.orderBy(F.desc(\"TotalSales\"))\n",
    "RanktotalSalesAllYears_df = grouped_totalSalesAllYears_df.withColumn(\"item_rank\", F.rank().over(window_spec))\n",
    "\n",
    "RanktotalSalesAllYears_df.show(10)"
   ]
  },
  {
   "cell_type": "code",
   "execution_count": 0,
   "metadata": {
    "application/vnd.databricks.v1+cell": {
     "cellMetadata": {},
     "inputWidgets": {},
     "nuid": "f7ef4d8a-c329-4bd7-8742-113ca033e76d",
     "showTitle": false,
     "title": ""
    }
   },
   "outputs": [],
   "source": []
  },
  {
   "cell_type": "markdown",
   "metadata": {
    "application/vnd.databricks.v1+cell": {
     "cellMetadata": {},
     "inputWidgets": {},
     "nuid": "a2ab4b67-87c6-4e8f-9349-4734ec8ee0c1",
     "showTitle": false,
     "title": ""
    }
   },
   "source": [
    "##### DATAMART 2 \n",
    "- TOP_BUYERS"
   ]
  },
  {
   "cell_type": "markdown",
   "metadata": {
    "application/vnd.databricks.v1+cell": {
     "cellMetadata": {},
     "inputWidgets": {},
     "nuid": "6df28e5b-f2fd-4bf2-a4fd-e8e8723d6e93",
     "showTitle": false,
     "title": ""
    }
   },
   "source": [
    "#### RESEARCH QUESTIONS\n",
    "- **top_buyers** data mart with top 20 customers who contributed on the total sales the most with additional attributes:\n",
    "  - Total sales contributed\n",
    "  - Rank based on the total sales\n",
    "  - Last order creation date\n",
    "  - The overall most viewed item of a customer"
   ]
  },
  {
   "cell_type": "code",
   "execution_count": 0,
   "metadata": {
    "application/vnd.databricks.v1+cell": {
     "cellMetadata": {
      "byteLimit": 2048000,
      "rowLimit": 10000
     },
     "inputWidgets": {},
     "nuid": "6dffa4de-0aa8-4420-b24e-88afd802b89e",
     "showTitle": false,
     "title": ""
    }
   },
   "outputs": [
    {
     "name": "stdout",
     "output_type": "stream",
     "text": [
      "+------+------------+--------------------+------+--------------------+----------+-------------------+---------+-------------------+\n",
      "|UserId|UserFullName|    UserEmailAddress|ItemId|       OrderItemName|OrderPrice|     OrderCreatedAt|EventName|EventParameterValue|\n",
      "+------+------------+--------------------+------+--------------------+----------+-------------------+---------+-------------------+\n",
      "|231502|     R Rossi|R_Rossi@earthlink...|  1921|  instrument charger|       8.8|2017-12-08 09:00:00|view_item|               1921|\n",
      "|231502|     R Rossi|R_Rossi@earthlink...|  2416|    fuzzy instrument|      44.0|2017-12-08 09:00:00|view_item|               1921|\n",
      "|231502|     R Rossi|R_Rossi@earthlink...|  3901|rechargable instr...|     45.76|2017-12-08 09:00:00|view_item|               1921|\n",
      "|231502|     R Rossi|R_Rossi@earthlink...|  2298|reflective instru...|     11.44|2017-12-08 09:00:00|view_item|               1921|\n",
      "|231502|     R Rossi|R_Rossi@earthlink...|  1921|  instrument charger|       8.8|2017-12-08 09:00:00|view_item|               2416|\n",
      "+------+------------+--------------------+------+--------------------+----------+-------------------+---------+-------------------+\n",
      "only showing top 5 rows\n",
      "\n"
     ]
    }
   ],
   "source": [
    " # Creating a Dimension table for top 20 customers with required information for further analysis\n",
    "top_buyers_DIM_df = (\n",
    "                    ordersDIM_df\n",
    "                    .join(usersDIM_df, \"UserId\", \"inner\")\n",
    "                    .join(eventsDIM_df, \"UserId\", \"inner\")\n",
    "                    .select(\"UserId\",\"UserFullName\",\"UserEmailAddress\",\"ItemId\",\"OrderItemName\",\"OrderPrice\",\"OrderCreatedAt\",\"EventName\",\"EventParameterValue\")\n",
    "                )\n",
    "top_buyers_DIM_df.show(5)"
   ]
  },
  {
   "cell_type": "markdown",
   "metadata": {
    "application/vnd.databricks.v1+cell": {
     "cellMetadata": {},
     "inputWidgets": {},
     "nuid": "1694f682-ea0a-43a3-b439-a1ed1cdf8ee7",
     "showTitle": false,
     "title": ""
    }
   },
   "source": [
    "- **2.1** Total sales by each customer for Top 20 Customers\n",
    "- **2.2** Rank based on the total sales"
   ]
  },
  {
   "cell_type": "code",
   "execution_count": 0,
   "metadata": {
    "application/vnd.databricks.v1+cell": {
     "cellMetadata": {
      "byteLimit": 2048000,
      "rowLimit": 10000
     },
     "inputWidgets": {},
     "nuid": "334a4f7a-da3b-4e15-aef4-896d22ad4156",
     "showTitle": false,
     "title": ""
    }
   },
   "outputs": [
    {
     "name": "stdout",
     "output_type": "stream",
     "text": [
      "+------+------------------+---------+\n",
      "|UserId|        TotalSales|User_rank|\n",
      "+------+------------------+---------+\n",
      "|166460|            4027.5|        1|\n",
      "|201255|            3675.0|        2|\n",
      "|226790| 3637.664999961853|        3|\n",
      "| 81386|            3534.0|        4|\n",
      "| 22576|            3320.0|        5|\n",
      "|117506|            3306.0|        6|\n",
      "|268611|            3300.0|        7|\n",
      "|105080|           3143.25|        8|\n",
      "| 17805|3099.9500007629395|        9|\n",
      "|180997|            3082.5|       10|\n",
      "| 79463|            3015.0|       11|\n",
      "|214827|            3013.5|       12|\n",
      "|156167|            3000.0|       13|\n",
      "| 52567|            2992.5|       14|\n",
      "|197634|            2860.0|       15|\n",
      "| 76381|            2850.0|       16|\n",
      "| 46550|            2850.0|       16|\n",
      "|127166|            2838.0|       18|\n",
      "|227472|            2835.0|       19|\n",
      "| 41147|            2800.0|       20|\n",
      "+------+------------------+---------+\n",
      "\n"
     ]
    }
   ],
   "source": [
    "# calculating the total sales and ranking each customer\n",
    "total_sales_df  =   ordersDIM_df.groupby(\"UserId\").agg(F.sum(\"OrderPrice\").alias(\"TotalSales\"))\n",
    "window_spec = Window.orderBy(F.desc(\"TotalSales\"))\n",
    "rank_Buyers_df = total_sales_df.withColumn(\"User_rank\", F.rank().over(window_spec))\n",
    "rank_top20_buyers_df = rank_Buyers_df.filter(F.col(\"User_rank\") <= 20)                      \n",
    "rank_top20_buyers_df.show()"
   ]
  },
  {
   "cell_type": "markdown",
   "metadata": {
    "application/vnd.databricks.v1+cell": {
     "cellMetadata": {},
     "inputWidgets": {},
     "nuid": "fa13f6c3-c5f6-45b5-a662-6c375caebdf5",
     "showTitle": false,
     "title": ""
    }
   },
   "source": [
    "- **2.3** Last order creation date"
   ]
  },
  {
   "cell_type": "code",
   "execution_count": 0,
   "metadata": {
    "application/vnd.databricks.v1+cell": {
     "cellMetadata": {
      "byteLimit": 2048000,
      "rowLimit": 10000
     },
     "inputWidgets": {},
     "nuid": "0480d41f-fa2b-434e-b35b-807586fabd70",
     "showTitle": false,
     "title": ""
    }
   },
   "outputs": [
    {
     "name": "stdout",
     "output_type": "stream",
     "text": [
      "+------+---------------------+\n",
      "|UserId|LastOrderCreationDate|\n",
      "+------+---------------------+\n",
      "|231502|  2017-12-08 09:00:00|\n",
      "|237568|  2017-11-18 09:31:00|\n",
      "| 34239|  2014-10-17 16:11:00|\n",
      "|176073|  2017-07-08 07:15:00|\n",
      "| 18979|  2014-07-03 02:49:00|\n",
      "|241533|  2018-02-22 14:26:00|\n",
      "| 29601|  2014-07-10 12:05:00|\n",
      "|  4900|  2013-11-20 13:31:00|\n",
      "| 89878|  2015-12-21 13:32:00|\n",
      "|207103|  2017-07-06 13:00:00|\n",
      "| 68098|  2015-09-03 13:27:00|\n",
      "|148267|  2016-11-24 00:14:00|\n",
      "| 78478|  2015-09-03 19:28:00|\n",
      "| 11858|  2013-12-07 18:42:00|\n",
      "|  4101|  2014-01-15 15:51:00|\n",
      "|167621|  2017-04-26 07:06:00|\n",
      "| 51415|  2015-03-31 18:36:00|\n",
      "|195263|  2017-07-24 08:41:00|\n",
      "|144475|  2016-12-08 20:04:00|\n",
      "| 82672|  2015-12-29 23:49:00|\n",
      "+------+---------------------+\n",
      "only showing top 20 rows\n",
      "\n"
     ]
    }
   ],
   "source": [
    "# extracing last order creation date for each customer \n",
    "lastOrderCreatedDate_df = ordersDIM_df.groupBy(\"UserId\").agg(F.max(\"OrderCreatedAt\").alias(\"LastOrderCreationDate\"))\n",
    "lastOrderCreatedDate_df.show()"
   ]
  },
  {
   "cell_type": "markdown",
   "metadata": {
    "application/vnd.databricks.v1+cell": {
     "cellMetadata": {},
     "inputWidgets": {},
     "nuid": "6428ac4e-0694-4703-b5b1-30882c5dc193",
     "showTitle": false,
     "title": ""
    }
   },
   "source": [
    "- **2.4** The overall most viewed item of a customer"
   ]
  },
  {
   "cell_type": "code",
   "execution_count": 0,
   "metadata": {
    "application/vnd.databricks.v1+cell": {
     "cellMetadata": {
      "byteLimit": 2048000,
      "rowLimit": 10000
     },
     "inputWidgets": {},
     "nuid": "30a1b166-feaf-4103-9bfe-fce440a63e9c",
     "showTitle": false,
     "title": ""
    }
   },
   "outputs": [
    {
     "name": "stdout",
     "output_type": "stream",
     "text": [
      "+------+-------------------+---------+\n",
      "|UserId|EventParameterValue|ViewCount|\n",
      "+------+-------------------+---------+\n",
      "| 45418|               1671|        3|\n",
      "|105745|               3932|        3|\n",
      "| 63987|               3426|        3|\n",
      "| 15170|               2810|        3|\n",
      "|212503|               3942|        3|\n",
      "|236421|                228|        2|\n",
      "|120305|               3042|        2|\n",
      "|105527|               3806|        2|\n",
      "|103381|               2751|        2|\n",
      "| 24540|               2088|        2|\n",
      "| 76547|                 55|        2|\n",
      "|166012|                760|        2|\n",
      "|106525|               3036|        2|\n",
      "| 52870|               3193|        2|\n",
      "|229913|               3035|        2|\n",
      "|194168|               1254|        2|\n",
      "|202451|               3328|        2|\n",
      "| 62998|               1968|        2|\n",
      "|247359|                153|        2|\n",
      "|201288|                719|        2|\n",
      "+------+-------------------+---------+\n",
      "only showing top 20 rows\n",
      "\n"
     ]
    }
   ],
   "source": [
    "# Filtering the data on events dataset based on the event type = view_item\n",
    "# Cleaning the EventParameterValue column as it contains string like google_search, promo_click etc which is not of our interest\n",
    "# So Im extracting only Integer value which is a ItemId and getting their view counts\n",
    "#   \n",
    "item_views_df = eventsDIM_df.filter(eventsDIM_df[\"EventName\"] == \"view_item\") \\\n",
    "                            .select(\"UserId\",\"EventName\",\"EventParameterValue\")\n",
    "item_views_df = item_views_df.filter(item_views_df[\"EventParameterValue\"].rlike(\"^[0-9]+$\")) \\\n",
    "                             .groupBy(\"EventParameterValue\",\"UserId\") \\\n",
    "                             .agg(F.count(\"EventParameterValue\").alias(\"ViewCount\"))  \n",
    "                                                                                \n",
    "most_viewed_items_df = item_views_df.orderBy(F.col(\"ViewCount\").desc()) \\\n",
    "                                    .select(\"UserId\",\"EventParameterValue\",\"ViewCount\")\n",
    "\n",
    "# # Show the most viewed items\n",
    "most_viewed_items_df.show()"
   ]
  },
  {
   "cell_type": "markdown",
   "metadata": {
    "application/vnd.databricks.v1+cell": {
     "cellMetadata": {},
     "inputWidgets": {},
     "nuid": "6c924d31-a403-4f24-8345-5e4ed2bcfb87",
     "showTitle": false,
     "title": ""
    }
   },
   "source": [
    "##### CREATION OF DATAMART: TOP BUYERS"
   ]
  },
  {
   "cell_type": "markdown",
   "metadata": {
    "application/vnd.databricks.v1+cell": {
     "cellMetadata": {},
     "inputWidgets": {},
     "nuid": "7ceef0f8-d394-4efd-8d25-a2467bd6a78a",
     "showTitle": false,
     "title": ""
    }
   },
   "source": [
    "- **DATAMART**: TOP_BUYERS\n",
    "- **Attributes**\n",
    "    - **UserID**:  Id of the customer in users dataset joined with orders and events\n",
    "    - **UserFullName**: Fullname of customer combining the columns firstname and last name \n",
    "    - **TotalSales**: Total sales made by user based on the count of items purchased multiplied by item price \n",
    "    - **LastOrderCreationDate**: Most recent order purchased by the user \n",
    "    - **EventParameterValue**: This column is preprocessed to extract integer value, it can be joined with items dataframe to get full information of the item"
   ]
  },
  {
   "cell_type": "code",
   "execution_count": 0,
   "metadata": {
    "application/vnd.databricks.v1+cell": {
     "cellMetadata": {
      "byteLimit": 2048000,
      "rowLimit": 10000
     },
     "inputWidgets": {},
     "nuid": "36bfcedb-eea8-4b1f-bd02-bcebe20823b7",
     "showTitle": false,
     "title": ""
    }
   },
   "outputs": [
    {
     "name": "stdout",
     "output_type": "stream",
     "text": [
      "+------+-------------+------------------+---------+---------------------+-------------------+---------+\n",
      "|UserId| UserFullName|        TotalSales|User_rank|LastOrderCreationDate|EventParameterValue|ViewCount|\n",
      "+------+-------------+------------------+---------+---------------------+-------------------+---------+\n",
      "| 52567|      K Saito|            2992.5|       14|  2015-06-17 04:25:00|               2354|        1|\n",
      "| 52567|      K Saito|            2992.5|       14|  2015-06-17 04:25:00|               3124|        1|\n",
      "| 52567|      K Saito|            2992.5|       14|  2015-06-17 04:25:00|                318|        1|\n",
      "| 52567|      K Saito|            2992.5|       14|  2015-06-17 04:25:00|               1852|        1|\n",
      "| 52567|      K Saito|            2992.5|       14|  2015-06-17 04:25:00|               3243|        1|\n",
      "| 52567|      K Saito|            2992.5|       14|  2015-06-17 04:25:00|               3757|        1|\n",
      "| 52567|      K Saito|            2992.5|       14|  2015-06-17 04:25:00|               2434|        1|\n",
      "| 17805|Hosna Russell|3099.9500007629395|        9|  2014-05-30 21:42:00|               3952|        1|\n",
      "| 17805|Hosna Russell|3099.9500007629395|        9|  2014-05-30 21:42:00|               3698|        1|\n",
      "| 17805|Hosna Russell|3099.9500007629395|        9|  2014-05-30 21:42:00|               1003|        1|\n",
      "| 17805|Hosna Russell|3099.9500007629395|        9|  2014-05-30 21:42:00|                466|        1|\n",
      "| 17805|Hosna Russell|3099.9500007629395|        9|  2014-05-30 21:42:00|               3341|        1|\n",
      "| 17805|Hosna Russell|3099.9500007629395|        9|  2014-05-30 21:42:00|               2354|        1|\n",
      "| 17805|Hosna Russell|3099.9500007629395|        9|  2014-05-30 21:42:00|                173|        1|\n",
      "| 17805|Hosna Russell|3099.9500007629395|        9|  2014-05-30 21:42:00|               3691|        1|\n",
      "|105080|Chloe Russell|           3143.25|        8|  2016-06-21 05:19:00|               1409|        1|\n",
      "|105080|Chloe Russell|           3143.25|        8|  2016-06-21 05:19:00|                326|        1|\n",
      "|105080|Chloe Russell|           3143.25|        8|  2016-06-21 05:19:00|               2062|        1|\n",
      "|105080|Chloe Russell|           3143.25|        8|  2016-06-21 05:19:00|                131|        1|\n",
      "|105080|Chloe Russell|           3143.25|        8|  2016-06-21 05:19:00|                373|        1|\n",
      "+------+-------------+------------------+---------+---------------------+-------------------+---------+\n",
      "only showing top 20 rows\n",
      "\n"
     ]
    }
   ],
   "source": [
    "# Merging all the data frames created from research questions to capture information like\n",
    "# Top customers and their total sales, their ranking, last order creation date, viewed item and view count\n",
    "\n",
    "top_buyers_DM_df = rank_top20_buyers_df.join(usersDIM_df, on=\"UserId\").select(\n",
    "    \"UserId\",\n",
    "    \"UserFullName\",\n",
    "    \"TotalSales\",\n",
    "    \"User_rank\"\n",
    ")\n",
    "\n",
    "# merging last order create date and most viewd items\n",
    "top_buyers_DM_df = top_buyers_DM_df.join(lastOrderCreatedDate_df, on=\"UserId\")\n",
    "top_buyers_DM_df = top_buyers_DM_df.join(most_viewed_items_df, on=\"UserId\")\n",
    "\n",
    "top_buyers_DM_df.show(20)"
   ]
  },
  {
   "cell_type": "markdown",
   "metadata": {
    "application/vnd.databricks.v1+cell": {
     "cellMetadata": {},
     "inputWidgets": {},
     "nuid": "8bfe6ef7-9ab3-424d-af4d-e701b60be276",
     "showTitle": false,
     "title": ""
    }
   },
   "source": [
    "**Note** : I have done my analysis keeping research questions in mind, but it would be interesting to dive deeper and perform more data exploration, apply transformations and extract many more meaningful insights like what kind of products are customers mainly interested, customer shopping pattern, ordering pattern based on device type etc.  "
   ]
  },
  {
   "cell_type": "code",
   "execution_count": 0,
   "metadata": {
    "application/vnd.databricks.v1+cell": {
     "cellMetadata": {},
     "inputWidgets": {},
     "nuid": "81882889-0093-4db9-a6fd-7d5d53d70cf1",
     "showTitle": false,
     "title": ""
    }
   },
   "outputs": [],
   "source": []
  }
 ],
 "metadata": {
  "application/vnd.databricks.v1+notebook": {
   "dashboards": [],
   "language": "python",
   "notebookMetadata": {
    "mostRecentlyExecutedCommandWithImplicitDF": {
     "commandId": -1,
     "dataframes": [
      "_sqldf"
     ]
    },
    "pythonIndentUnit": 4
   },
   "notebookName": "VikranthAle_HandsOnAssignment",
   "widgets": {}
  },
  "kernelspec": {
   "display_name": "Python 3 (ipykernel)",
   "language": "python",
   "name": "python3"
  },
  "language_info": {
   "codemirror_mode": {
    "name": "ipython",
    "version": 3
   },
   "file_extension": ".py",
   "mimetype": "text/x-python",
   "name": "python",
   "nbconvert_exporter": "python",
   "pygments_lexer": "ipython3",
   "version": "3.11.3"
  }
 },
 "nbformat": 4,
 "nbformat_minor": 1
}
